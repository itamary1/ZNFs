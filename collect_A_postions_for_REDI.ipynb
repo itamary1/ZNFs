{
 "cells": [
  {
   "cell_type": "code",
   "execution_count": 1,
   "metadata": {},
   "outputs": [],
   "source": [
    "from Bio import SeqIO\n",
    "import re"
   ]
  },
  {
   "cell_type": "markdown",
   "metadata": {},
   "source": [
    "move over fasta records, write to file every A positions and its strand.\n",
    "the fasta record's headline should contain the deseverd strand to look for all the 'A'"
   ]
  },
  {
   "cell_type": "code",
   "execution_count": 3,
   "metadata": {},
   "outputs": [],
   "source": [
    "in_file = \"/private8/Projects/itamar/ZNF/Sra_GSE73211_35_samples/REDI/curated/input/seq_ZNF_RefseqCur.fa\"\n",
    "out_file = \"/private8/Projects/itamar/ZNF/Sra_GSE73211_35_samples/REDI/curated/All_ZNF_A_RefseqCur_knownFormat.bed\"\n",
    "lines = []\n",
    "for seq_record in SeqIO.parse(in_file, \"fasta\"):\n",
    "    strand = seq_record.id[-2]\n",
    "    chr = seq_record.id.split(\":\")[0]\n",
    "    # position of nuc will be nuc's psition (1 base!) + start\n",
    "    start = (seq_record.id.split(\":\")[1]).split(\"-\")[0]\n",
    "    end = (seq_record.id.split(\"-\")[1]).split(\"(\")[0]\n",
    "    for a in re.finditer(\"A\", str(seq_record.seq)):\n",
    "        if strand == \"+\":\n",
    "            pos = str(int(a.span()[1]) + int(start))\n",
    "        else: # strand \"-\", seq starting from the end\n",
    "            pos = str(int(end) - int(a.span()[0]))\n",
    "        line = (\"\\t\".join([chr, pos,strand]))+\"\\n\"\n",
    "        lines.append(line)\n",
    "with open(out_file, \"w\") as out_Fd:\n",
    "    out_Fd.writelines(lines)\n",
    "\n"
   ]
  }
 ],
 "metadata": {
  "interpreter": {
   "hash": "3566c55396aa67d6d450caee2c72072e0a80bcedc801748038b289e6d3e79506"
  },
  "kernelspec": {
   "display_name": "Python 3.9.7 ('lamootHW')",
   "language": "python",
   "name": "python3"
  },
  "language_info": {
   "codemirror_mode": {
    "name": "ipython",
    "version": 3
   },
   "file_extension": ".py",
   "mimetype": "text/x-python",
   "name": "python",
   "nbconvert_exporter": "python",
   "pygments_lexer": "ipython3",
   "version": "3.9.12"
  },
  "orig_nbformat": 4
 },
 "nbformat": 4,
 "nbformat_minor": 2
}
