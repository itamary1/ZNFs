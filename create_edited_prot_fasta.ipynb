{
 "cells": [
  {
   "cell_type": "code",
   "execution_count": 49,
   "metadata": {},
   "outputs": [],
   "source": [
    "import pandas as pd\n",
    "import os"
   ]
  },
  {
   "cell_type": "code",
   "execution_count": 39,
   "metadata": {},
   "outputs": [],
   "source": [
    "genes = pd.read_csv(\"/private8/Projects/itamar/ZNF/orshai_editing_sites/above_10_genes_result.csv\")"
   ]
  },
  {
   "cell_type": "markdown",
   "metadata": {},
   "source": [
    "for every gene - will create dir with fasta for the original and all its variants all its variants"
   ]
  },
  {
   "cell_type": "code",
   "execution_count": 55,
   "metadata": {},
   "outputs": [],
   "source": [
    "parent_dir = \"/private8/Projects/itamar/ZNF/orshai_editing_sites/mutations_fasta/\"\n",
    "for index, gene in genes.iterrows():\n",
    "    mut_list = gene['change_list']\n",
    "    if pd.isna(mut_list):\n",
    "        continue\n",
    "    gene_dir = gene['gene_name']\n",
    "    gene_path = os.path.join(parent_dir, gene_dir)\n",
    "    os.mkdir(gene_path)\n",
    "    seq = gene['prot_seq']\n",
    "# write first fasta for origina seq\n",
    "    fasta_file_path = os.path.join(gene_path, (gene['gene_name']+'.fasta'))\n",
    "    with open(fasta_file_path, 'w') as Ffile:\n",
    "        Ffile.write('>' + str(gene['gene_name']) + '\\n' + str(seq) + '\\n')\n",
    "# write fasta for every seq\n",
    "    # its wrote like Q352R;R358G\n",
    "    mut_list = mut_list.split(\";\")\n",
    "    for mutation in mut_list:\n",
    "        mutable_seq = list(seq)\n",
    "        mutable_seq[int(mutation[1:-1])] = mutation[-1]\n",
    "        gene_ver_name = str(gene['gene_name']) +\"_\" + mutation\n",
    "        fasta_file_path = os.path.join(gene_path, (gene_ver_name + '.fasta'))\n",
    "        with open(fasta_file_path, 'w') as Ffile:\n",
    "            Ffile.write('>' + gene_ver_name + '\\n' + \"\".join(mutable_seq) + '\\n')"
   ]
  }
 ],
 "metadata": {
  "interpreter": {
   "hash": "3566c55396aa67d6d450caee2c72072e0a80bcedc801748038b289e6d3e79506"
  },
  "kernelspec": {
   "display_name": "Python 3.9.7 ('lamootHW')",
   "language": "python",
   "name": "python3"
  },
  "language_info": {
   "codemirror_mode": {
    "name": "ipython",
    "version": 3
   },
   "file_extension": ".py",
   "mimetype": "text/x-python",
   "name": "python",
   "nbconvert_exporter": "python",
   "pygments_lexer": "ipython3",
   "version": "3.9.12"
  },
  "orig_nbformat": 4
 },
 "nbformat": 4,
 "nbformat_minor": 2
}
