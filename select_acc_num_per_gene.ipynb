{
 "cells": [
  {
   "cell_type": "code",
   "execution_count": 1,
   "metadata": {},
   "outputs": [],
   "source": [
    "import pandas as pd"
   ]
  },
  {
   "cell_type": "code",
   "execution_count": 2,
   "metadata": {},
   "outputs": [],
   "source": [
    "class StopExecution(Exception):\n",
    "    def _render_traceback_(self):\n",
    "        pass\n",
    "\n",
    "# raise StopExecution"
   ]
  },
  {
   "cell_type": "code",
   "execution_count": 8,
   "metadata": {},
   "outputs": [
    {
     "name": "stderr",
     "output_type": "stream",
     "text": [
      "/tmp/ipykernel_8646/1301719892.py:13: SettingWithCopyWarning: \n",
      "A value is trying to be set on a copy of a slice from a DataFrame.\n",
      "Try using .loc[row_indexer,col_indexer] = value instead\n",
      "\n",
      "See the caveats in the documentation: https://pandas.pydata.org/pandas-docs/stable/user_guide/indexing.html#returning-a-view-versus-a-copy\n",
      "  sites_above_40['genes']=sites_above_40['genes'].apply(eval)\n",
      "/tmp/ipykernel_8646/1301719892.py:14: SettingWithCopyWarning: \n",
      "A value is trying to be set on a copy of a slice from a DataFrame.\n",
      "Try using .loc[row_indexer,col_indexer] = value instead\n",
      "\n",
      "See the caveats in the documentation: https://pandas.pydata.org/pandas-docs/stable/user_guide/indexing.html#returning-a-view-versus-a-copy\n",
      "  sites_above_40['aminos_change']=sites_above_40['aminos_change'].apply(eval)\n",
      "/tmp/ipykernel_8646/1301719892.py:15: SettingWithCopyWarning: \n",
      "A value is trying to be set on a copy of a slice from a DataFrame.\n",
      "Try using .loc[row_indexer,col_indexer] = value instead\n",
      "\n",
      "See the caveats in the documentation: https://pandas.pydata.org/pandas-docs/stable/user_guide/indexing.html#returning-a-view-versus-a-copy\n",
      "  sites_above_40['mut_type']=sites_above_40['mut_type'].apply(eval)\n",
      "/tmp/ipykernel_8646/1301719892.py:16: SettingWithCopyWarning: \n",
      "A value is trying to be set on a copy of a slice from a DataFrame.\n",
      "Try using .loc[row_indexer,col_indexer] = value instead\n",
      "\n",
      "See the caveats in the documentation: https://pandas.pydata.org/pandas-docs/stable/user_guide/indexing.html#returning-a-view-versus-a-copy\n",
      "  sites_above_40['selected_acc']= \"\"\n",
      "/tmp/ipykernel_8646/1301719892.py:17: SettingWithCopyWarning: \n",
      "A value is trying to be set on a copy of a slice from a DataFrame.\n",
      "Try using .loc[row_indexer,col_indexer] = value instead\n",
      "\n",
      "See the caveats in the documentation: https://pandas.pydata.org/pandas-docs/stable/user_guide/indexing.html#returning-a-view-versus-a-copy\n",
      "  sites_above_40['selected_aminos_change']= \"\"\n",
      "/tmp/ipykernel_8646/1301719892.py:18: SettingWithCopyWarning: \n",
      "A value is trying to be set on a copy of a slice from a DataFrame.\n",
      "Try using .loc[row_indexer,col_indexer] = value instead\n",
      "\n",
      "See the caveats in the documentation: https://pandas.pydata.org/pandas-docs/stable/user_guide/indexing.html#returning-a-view-versus-a-copy\n",
      "  sites_above_40['selected_mut_type']= \"\"\n",
      "/tmp/ipykernel_8646/1301719892.py:19: SettingWithCopyWarning: \n",
      "A value is trying to be set on a copy of a slice from a DataFrame.\n",
      "Try using .loc[row_indexer,col_indexer] = value instead\n",
      "\n",
      "See the caveats in the documentation: https://pandas.pydata.org/pandas-docs/stable/user_guide/indexing.html#returning-a-view-versus-a-copy\n",
      "  clusters_ZNF_above_40['accession_n'] = \"\"\n",
      "/home/alu/twerski/anaconda3/envs/lamootHW/lib/python3.9/site-packages/pandas/core/indexing.py:1817: SettingWithCopyWarning: \n",
      "A value is trying to be set on a copy of a slice from a DataFrame.\n",
      "Try using .loc[row_indexer,col_indexer] = value instead\n",
      "\n",
      "See the caveats in the documentation: https://pandas.pydata.org/pandas-docs/stable/user_guide/indexing.html#returning-a-view-versus-a-copy\n",
      "  self._setitem_single_column(loc, value, pi)\n"
     ]
    },
    {
     "name": "stdout",
     "output_type": "stream",
     "text": [
      "2252\n",
      "2250\n"
     ]
    }
   ],
   "source": [
    "# note1!!!!!!!!! should be comfort file with list colunms writed as [....]\n",
    "# note2!!! this code is assuming all the sites of genes have at least one common accession number - \n",
    "# here I only have one gene that are not compatible so I fixed it manualy\n",
    "fp = \"/private8/Projects/itamar/ZNF/Sra_GSE73211_35_samples/REDI/curated/nodups_cov5_HE_PLUS_STAR100len/comfort_ver_final_table_amino_change_by_site_byFreq.tab.csv\"\n",
    "# read table\n",
    "sites = pd.read_csv(filepath_or_buffer=fp, sep=\"\\t\") \n",
    "# find genes with above 40 sites\n",
    "clusters_ZNF = sites[\"gene_name\"].value_counts().rename_axis('gene_name').reset_index(name='counts')\n",
    "clusters_ZNF_above_40 = clusters_ZNF[clusters_ZNF[\"counts\"] > 40]\n",
    "# keep only sites of those genes\n",
    "sites_above_40 = sites[sites[\"gene_name\"].isin(clusters_ZNF_above_40['gene_name'])]\n",
    "# split gene accesion to list\n",
    "sites_above_40['genes']=sites_above_40['genes'].apply(eval)\n",
    "sites_above_40['aminos_change']=sites_above_40['aminos_change'].apply(eval)\n",
    "sites_above_40['mut_type']=sites_above_40['mut_type'].apply(eval)\n",
    "sites_above_40['selected_acc']= \"\"\n",
    "sites_above_40['selected_aminos_change']= \"\"\n",
    "sites_above_40['selected_mut_type']= \"\"\n",
    "clusters_ZNF_above_40['accession_n'] = \"\"\n",
    "\n",
    "# choose acc number for every gene symbol \n",
    "dict_list_sites_above_40=[]\n",
    "# manual fix gene with problem of accession number\n",
    "# printing to ensure that exact 2 row was removed\n",
    "print(sites_above_40.shape[0])\n",
    "sites_above_40 = sites_above_40[sites_above_40['Position'] != 35254398 ]\n",
    "sites_above_40 = sites_above_40[sites_above_40['Position'] != 35254274 ]\n",
    "print(sites_above_40.shape[0])\n",
    "#for symbol\n",
    "for symb in clusters_ZNF_above_40[\"gene_name\"]:\n",
    "    # select symbol's lines\n",
    "    symb_df = sites_above_40[sites_above_40['gene_name'] == symb]\n",
    "    dict_list_symb_df=symb_df.to_dict('records')\n",
    "    my_flag=False\n",
    "    # find acc number that is in all the sites\n",
    "    symb_acc_list = [acc for acc_list in symb_df['genes'] for acc in acc_list]\n",
    "    symb_acc_set=set(symb_acc_list)\n",
    "    for acc_n in symb_acc_set:       \n",
    "        # filter sites that contains this acc n\n",
    "        temp_df = symb_df[symb_df['genes'].apply(lambda x: acc_n in x)]\n",
    "        # if its all the sites\n",
    "        if temp_df.shape[0] == symb_df.shape[0]:\n",
    "            for site in dict_list_symb_df:\n",
    "                my_flag=True\n",
    "                site['selected_acc']=acc_n\n",
    "                clusters_ZNF_above_40.loc[clusters_ZNF_above_40['gene_name']==symb,'accession_n'] = acc_n\n",
    "                # find acc index and save copmatible amino change\n",
    "                for idx,gene in enumerate(site['genes']):\n",
    "                    if gene==acc_n:\n",
    "                            site['selected_aminos_change']=site['aminos_change'][idx]\n",
    "                            site['selected_mut_type']=site['mut_type'][idx]\n",
    "                            break\n",
    "        # if we found acc number stop iterate over site's acc list\n",
    "        if my_flag:\n",
    "            break\n",
    "    dict_list_sites_above_40.extend(dict_list_symb_df)\n",
    "        \n",
    "for site in dict_list_sites_above_40:\n",
    "    assert len(site['selected_acc']) > 3, len(site['selected_acc'])\n",
    "    assert site['selected_acc'] in site['genes'], str(site)\n"
   ]
  },
  {
   "cell_type": "markdown",
   "metadata": {},
   "source": [
    "write and make data easy for the next stage"
   ]
  },
  {
   "cell_type": "code",
   "execution_count": 13,
   "metadata": {},
   "outputs": [
    {
     "name": "stderr",
     "output_type": "stream",
     "text": [
      "/tmp/ipykernel_8646/735495276.py:6: SettingWithCopyWarning: \n",
      "A value is trying to be set on a copy of a slice from a DataFrame\n",
      "\n",
      "See the caveats in the documentation: https://pandas.pydata.org/pandas-docs/stable/user_guide/indexing.html#returning-a-view-versus-a-copy\n",
      "  final_site_table.mut_type_short[final_site_table['selected_mut_type'] == 'synonymous_variant'] = 'syn'\n"
     ]
    }
   ],
   "source": [
    "\n",
    "genes_out_path = \"/private8/Projects/itamar/ZNF/Sra_GSE73211_35_samples/REDI/curated/domain_editing/above_40_geneID.csv\"\n",
    "clusters_ZNF_above_40.to_csv(genes_out_path, index=False)\n",
    "final_site_table = pd.DataFrame.from_dict(dict_list_sites_above_40)\n",
    "final_site_table.rename(columns={'selected_aminos_change':'amino_change'}, inplace=True)\n",
    "final_site_table[\"mut_type_short\"]=\"nonsyn\"\n",
    "final_site_table.mut_type_short[final_site_table['selected_mut_type'] == 'synonymous_variant'] = 'syn'\n",
    "sites_out_path = \"/private8/Projects/itamar/ZNF/Sra_GSE73211_35_samples/REDI/curated/domain_editing/above_40_sites.csv\"\n",
    "final_site_table.to_csv(sites_out_path, index=False)\n"
   ]
  }
 ],
 "metadata": {
  "kernelspec": {
   "display_name": "Python 3.9.12 ('lamootHW')",
   "language": "python",
   "name": "python3"
  },
  "language_info": {
   "codemirror_mode": {
    "name": "ipython",
    "version": 3
   },
   "file_extension": ".py",
   "mimetype": "text/x-python",
   "name": "python",
   "nbconvert_exporter": "python",
   "pygments_lexer": "ipython3",
   "version": "3.9.12"
  },
  "orig_nbformat": 4,
  "vscode": {
   "interpreter": {
    "hash": "3566c55396aa67d6d450caee2c72072e0a80bcedc801748038b289e6d3e79506"
   }
  }
 },
 "nbformat": 4,
 "nbformat_minor": 2
}
